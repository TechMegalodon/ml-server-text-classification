{
 "cells": [
  {
   "cell_type": "markdown",
   "metadata": {},
   "source": [
    "# Text Classification for the Newsgroups20 data set with R.\n",
    "\n",
    "When a customer sends a support ticket, it is important to route it to the right team in order to examine the issue and solve it in the fastest way possible. This notebook uses a preprocessed version of the NewsGroups20, containing a Subject, a Text, and a Label (20 classes). It has a similar structure to a support ticket data set which would also have two data fields: Title, and Problem description.\n",
    "\n",
    "This notebook takes advantage of the power of SQL Server and RevoScaleR (Microsoft R Server). The tables are all stored in a SQL Server, and most of the computations are done by loading chunks of data in-memory instead of the whole dataset.\n",
    "\n",
    "It does the following: \n",
    "\n",
    " * **Step 0: Packages, Compute Contexts and Database Creation**\n",
    " * **Step 1: Loading the data to SQL Server**\n",
    " * **Step 2: Create features on the fly for the training set and train the model**\n",
    " * **Step 3: Create features on the fly for the testing set, make predictions, and evaluate the model**"
   ]
  },
  {
   "cell_type": "markdown",
   "metadata": {},
   "source": [
    "## Step 0: Packages, Compute Contexts and Database Creation\n",
    "\n",
    "#### In this step, we set up the connection string to access a SQL Server Database we create and load the necessary packages. "
   ]
  },
  {
   "cell_type": "code",
   "execution_count": null,
   "metadata": {
    "collapsed": true
   },
   "outputs": [],
   "source": [
    "# INPUT DATA SETS: point to the correct path.  \n",
    "News_Train <- \"../Data/News_Train\"\n",
    "News_Test <- \"../Data/News_Test\"\n",
    "Label_Names <- \"../Data/Label_Names\""
   ]
  },
  {
   "cell_type": "code",
   "execution_count": null,
   "metadata": {
    "collapsed": true
   },
   "outputs": [],
   "source": [
    "# Load packages.\n",
    "library(RevoScaleR)\n",
    "library(MicrosoftML)"
   ]
  },
  {
   "cell_type": "code",
   "execution_count": null,
   "metadata": {},
   "outputs": [],
   "source": [
    "# Creating the connection string. Specify:\n",
    "## Database name. If it already exists, tables will be overwritten. If not, it will be created.\n",
    "## Server name. If conecting remotely to the DSVM, the full DNS address should be used with the port number 1433 (which should be enabled) \n",
    "## User ID and Password. Change them below if you modified the default values.  \n",
    "db_name <- \"NewsR\"\n",
    "server <- \"localhost\"\n",
    "user_id <- \"sheri\"\n",
    "password <- \"ChangePassw)rd12\"\n",
    "\n",
    "connection_string <- sprintf(\"Driver=SQL Server;Server=%s;Database=%s;UID=%s;PWD=%s\", server, db_name, user_id, password)\n",
    "\n",
    "# Define SQL Compute Context.\n",
    "sql <- RxInSqlServer(connectionString = connection_string)\n",
    "\n",
    "print(\"Connection String Written.\")"
   ]
  },
  {
   "cell_type": "code",
   "execution_count": null,
   "metadata": {},
   "outputs": [],
   "source": [
    "# Create the database if not already existing. \n",
    "\n",
    "## Open an Odbc connection with SQL Server master database only to create a new database with the rxExecuteSQLDDL function.\n",
    "connection_string_master <- sprintf(\"Driver=SQL Server;Server=%s;Database=master;UID=%s;PWD=%s\", server, user_id, password)\n",
    "outOdbcDS_master <- RxOdbcData(table = \"Default_Master\", connectionString = connection_string_master)                         \n",
    "rxOpen(outOdbcDS_master, \"w\")\n",
    "\n",
    "## Create database if not already existing. \n",
    "query <- sprintf( \"if not exists(SELECT * FROM sys.databases WHERE name = '%s') CREATE DATABASE %s;\", db_name, db_name)\n",
    "rxExecuteSQLDDL(outOdbcDS_master, sSQLString = query)\n",
    "\n",
    "## Close Obdc connection to master database. \n",
    "rxClose(outOdbcDS_master)\n",
    "\n",
    "print(\"Database created if not already existing.\")"
   ]
  },
  {
   "cell_type": "markdown",
   "metadata": {},
   "source": [
    "#### The function below can be used to get the top n rows of a table stored on SQL Server. \n",
    "#### You can execute this cell throughout your progress by removing the comment \"#\", and inputting:\n",
    "#### - the table name.\n",
    "#### - the number of rows you want to display."
   ]
  },
  {
   "cell_type": "code",
   "execution_count": null,
   "metadata": {
    "collapsed": true
   },
   "outputs": [],
   "source": [
    "display_head <- function(table_name, n_rows){\n",
    "   table_sql <- RxSqlServerData(sqlQuery = sprintf(\"SELECT TOP(%s) * FROM %s\", n_rows, table_name), connectionString = connection_string)\n",
    "   table <- rxImport(table_sql)\n",
    "   print(table)\n",
    "}\n",
    "\n",
    "# table_name <- \"insert_table_name\"\n",
    "# n_rows <- 10\n",
    "# display_head(table_name, n_rows)"
   ]
  },
  {
   "cell_type": "markdown",
   "metadata": {},
   "source": [
    "## Step 1: Loading the data to SQL Server.\n"
   ]
  },
  {
   "cell_type": "code",
   "execution_count": null,
   "metadata": {
    "collapsed": true
   },
   "outputs": [],
   "source": [
    "# Set the compute context to Local. \n",
    "rxSetComputeContext('local')"
   ]
  },
  {
   "cell_type": "code",
   "execution_count": null,
   "metadata": {
    "scrolled": false
   },
   "outputs": [],
   "source": [
    "# Point to the txt data sets.\n",
    "News_Train_text <- RxTextData(file = News_Train, delimiter = \"\\t\")\n",
    "News_Test_text <- RxTextData(file = News_Test, delimiter = \"\\t\")\n",
    "Label_Names_text <- RxTextData(file = Label_Names, delimiter = \"\\t\")\n",
    "\n",
    "# Point to the SQL tables where they will be written. \n",
    "News_Train_sql <- RxSqlServerData(table = \"News_Train\", connectionString = connection_string)\n",
    "News_Test_sql <- RxSqlServerData(table = \"News_Test\", connectionString = connection_string)\n",
    "Label_Names_sql <- RxSqlServerData(table = \"Label_Names\", connectionString = connection_string)\n",
    "\n",
    "# Export them to SQL Server.\n",
    "rxDataStep(inData = News_Train_text, outFile = News_Train_sql, overwrite = TRUE)\n",
    "rxDataStep(inData = News_Test_text, outFile = News_Test_sql, overwrite = TRUE)\n",
    "rxDataStep(inData = Label_Names_text, outFile = Label_Names_sql, overwrite = TRUE)\n",
    "\n",
    "print(\"Data exported to SQL Server.\")"
   ]
  },
  {
   "cell_type": "markdown",
   "metadata": {},
   "source": [
    "## Step 2: Create features on the fly for the training set and train the model.\n",
    "\n",
    "In this step, we:\n",
    "\n",
    "**1.** Get the factor levels of the label.\n",
    "\n",
    "**2.** Define the transformation to be used to generate text features. \n",
    "\n",
    "**3.**  Train a multiclass Logistic Regression Model while featurizing the text variables separately on the fly. \n",
    "\n",
    "**Input:** Training set News_Train.\n",
    "\n",
    "**Output:** Multiclass Logistic Regression model."
   ]
  },
  {
   "cell_type": "code",
   "execution_count": null,
   "metadata": {},
   "outputs": [],
   "source": [
    "# Get the factor levels of the label.\n",
    "colInfo1 <- list()\n",
    "colInfo1$Label$type <- \"factor\"\n",
    "News_Train_sql1 <- RxSqlServerData(table = \"News_Train\", connectionString = connection_string, colInfo = colInfo1)\n",
    "colInfo <- rxCreateColInfo(News_Train_sql1)\n",
    "\n",
    "print(\"Label levels retreived.\")"
   ]
  },
  {
   "cell_type": "code",
   "execution_count": null,
   "metadata": {},
   "outputs": [],
   "source": [
    "# Write the formula for training. \n",
    "## The Subject and Text are featurized separately in order to give to the words in the Subject the same weight as those in the Text. \n",
    "training_formula = \"Label ~ SubjectPreprocessed + TextPreprocessed\"\n",
    "\n",
    "print(\"Formula written.\")"
   ]
  },
  {
   "cell_type": "code",
   "execution_count": null,
   "metadata": {},
   "outputs": [],
   "source": [
    "# Define the transformation to be used to generate features. \n",
    "# It will be applied on the fly during training and testing.\n",
    "## Here, for each of the Subject and the Text separately, we: \n",
    "## - Remove stopwords, diacritics, punctuation and numbers.\n",
    "## - Change capital letters to lower case. \n",
    "## - Hash the different words and characters. \n",
    "## The parameters or options can be further optimized by parameter sweeping.\n",
    "## Other languages can be used. \n",
    "text_transform_list <- list(featurizeText(vars = c(SubjectPreprocessed = \"Subject\",\n",
    "                                                   TextPreprocessed = \"Text\"),\n",
    "                                          language = \"English\", \n",
    "                                          stopwordsRemover = stopwordsDefault(), \n",
    "                                          case = \"lower\",\n",
    "                                          keepDiacritics = FALSE, \n",
    "                                          keepPunctuations = FALSE, \n",
    "                                          keepNumbers = FALSE,  \n",
    "                                          wordFeatureExtractor = ngramHash(ngramLength = 2, hashBits = 17, seed = 4),\n",
    "                                          charFeatureExtractor = ngramHash(ngramLength = 3, hashBits = 17, seed = 4), \n",
    "                                          vectorNormalizer = \"l2\")) \n",
    "  \n",
    "print(\"Text transfomation defined.\")"
   ]
  },
  {
   "cell_type": "code",
   "execution_count": null,
   "metadata": {},
   "outputs": [],
   "source": [
    "# Set the compute context to SQL for training. \n",
    "rxSetComputeContext(sql) \n",
    "\n",
    "# Point to the training set. \n",
    "News_Train_sql <- RxSqlServerData(table = \"News_Train\", connectionString = connection_string, colInfo = colInfo)\n",
    "\n",
    "# Train the multiclass Logistic Regression Model.\n",
    "logistic_model <- rxLogisticRegression(formula = training_formula,\n",
    "                                       data = News_Train_sql,\n",
    "                                       type = \"multiClass\",\n",
    "                                       l2Weight = 1, \n",
    "                                       l1Weight = 1,\n",
    "                                       mlTransforms = text_transform_list,\n",
    "                                       trainThreads = 4)\n",
    "\n",
    "print(\"Multiclass Logistic Regression trained.\")"
   ]
  },
  {
   "cell_type": "code",
   "execution_count": null,
   "metadata": {},
   "outputs": [],
   "source": [
    "# Save the model to SQL Server. \n",
    "\n",
    "## Set the compute context to local for data upload to SQL Server.\n",
    "rxSetComputeContext('local') \n",
    "\n",
    "## Open an Odbc connection with SQL Server.\n",
    "OdbcModel <- RxOdbcData(table = \"Model\", connectionString = connection_string)\n",
    "rxOpen(OdbcModel, \"w\")\n",
    "\n",
    "## Drop the Model table if it exists. \n",
    "if(rxSqlServerTableExists(OdbcModel@table, OdbcModel@connectionString)) {\n",
    "  rxSqlServerDropTable(OdbcModel@table, OdbcModel@connectionString)\n",
    "}\n",
    "\n",
    "## Create an empty Model table. \n",
    "rxExecuteSQLDDL(OdbcModel, \n",
    "                sSQLString = paste(\"CREATE TABLE [\", OdbcModel@table, \"] (\",\n",
    "                                   \"[id] varchar(200) not null, \",\n",
    "                                   \"[value] varbinary(max), \",\n",
    "                                   \"constraint unique_id2 unique (id))\",\n",
    "                                   sep = \"\")\n",
    ")\n",
    "\n",
    "## Write the model to SQL. \n",
    "rxWriteObject(OdbcModel, \"LR\", logistic_model)\n",
    "\n",
    "## Close the Obdc connection used. \n",
    "rxClose(OdbcModel)\n",
    "\n",
    "# Set the compute context back to SQL. \n",
    "rxSetComputeContext(sql) \n",
    "\n",
    "print(\"Model saved to SQL Server.\")"
   ]
  },
  {
   "cell_type": "markdown",
   "metadata": {},
   "source": [
    "## Step 3: Create features on the fly for the testing set, make predictions, and evaluate the model.\n",
    "\n",
    "In this step, we:\n",
    "\n",
    "**1.** Score the logistic regression on the testing set, while featurizing the two text variables. \n",
    "\n",
    "**2.** Evaluate the model. \n",
    "\n",
    "**Input:** Testing set News_Test and Multiclass Logistic Regression model.\n",
    "\n",
    "**Output:** Predictions and evaluation metrics."
   ]
  },
  {
   "cell_type": "code",
   "execution_count": null,
   "metadata": {},
   "outputs": [],
   "source": [
    "# Logistic Regression Scoring\n",
    "\n",
    "## Point to the testing set. \n",
    "News_Test_sql <- RxSqlServerData(table = \"News_Test\", connectionString = connection_string, colInfo = colInfo)\n",
    "\n",
    "## Make Predictions while featurizing the text variables separately on the fly.\n",
    "## This will automatically use the same text transformation as in the training, encoded in logistic_model.\n",
    "Predictions_Intermediate_sql <- RxSqlServerData(table = \"Predictions_Intermediate\", connectionString = connection_string)\n",
    "\n",
    "rxPredict(modelObject = logistic_model,\n",
    "          outData = Predictions_Intermediate_sql,\n",
    "          data = News_Test_sql,\n",
    "          extraVarsToWrite = c(\"Label\", \"Id\"),\n",
    "          overwrite = TRUE)\n",
    "\n",
    "# Join the Predictions table with the Label names to get the actual predicted labels.\n",
    "Join_Query_sql <- RxSqlServerData(sqlQuery = \"SELECT LabelNames, Predictions_Intermediate.*\n",
    "                                              FROM Predictions_Intermediate INNER JOIN Label_Names \n",
    "                                              ON Predictions_Intermediate.PredictedLabel = Label_Names.Label\", \n",
    "                                  connectionString = connection_string)\n",
    "\n",
    "Predictions_sql <- RxSqlServerData(table = \"Predictions\", connectionString = connection_string, stringsAsFactors = TRUE)\n",
    "rxDataStep(inData = Join_Query_sql, outFile = Predictions_sql, overwrite = TRUE)\n",
    "\n",
    "# Drop the intermediate table. \n",
    "rxSqlServerDropTable(table = \"Predictions_Intermediate\", connectionString = connection_string)\n",
    "\n",
    "print(\"Scoring done.\")"
   ]
  },
  {
   "cell_type": "code",
   "execution_count": null,
   "metadata": {},
   "outputs": [],
   "source": [
    "# Evaluate the model. \n",
    "\n",
    "## Confusion matrix.\n",
    "Confusion_Matrix <- rxCrossTabs(~ Label:PredictedLabel, Predictions_sql, returnXtabs = TRUE)\n",
    "\n",
    "## Micro Average accuracy.\n",
    "micro <- sum(diag(Confusion_Matrix))/sum(Confusion_Matrix)\n",
    "\n",
    "## Macro Average accuracy.\n",
    "macro <- mean(diag(Confusion_Matrix)/rowSums(Confusion_Matrix))\n",
    "    \n",
    "# Print the computed metrics.\n",
    "metrics <- c(\"Micro Average Accuracy\" = micro, \n",
    "             \"Macro Average Accuracy\" = macro)\n",
    "\n",
    "print(metrics) \n",
    "print(Confusion_Matrix )"
   ]
  },
  {
   "cell_type": "code",
   "execution_count": null,
   "metadata": {},
   "outputs": [],
   "source": [
    "# Look at a subset of the predictions. \n",
    "display_head(table_name = \"Predictions\", n_rows = 10)\n"
   ]
  },
  {
   "cell_type": "code",
   "execution_count": null,
   "metadata": {
    "collapsed": true
   },
   "outputs": [],
   "source": []
  }
 ],
 "metadata": {
  "celltoolbar": "Raw Cell Format",
  "kernelspec": {
   "display_name": "R",
   "language": "R",
   "name": "ir"
  },
  "language_info": {
   "codemirror_mode": "r",
   "file_extension": ".r",
   "mimetype": "text/x-r-source",
   "name": "R",
   "pygments_lexer": "r",
   "version": "3.4.1"
  }
 },
 "nbformat": 4,
 "nbformat_minor": 1
}
